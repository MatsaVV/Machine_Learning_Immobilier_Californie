{
 "cells": [
  {
   "cell_type": "code",
   "execution_count": null,
   "id": "153ed777",
   "metadata": {},
   "outputs": [],
   "source": [
    "import streamlit as st\n",
    "import pandas as pd\n",
    "import joblib\n",
    "\n",
    "model = joblib.load('model/pipe.joblib')\n",
    "\n",
    "def predict_house_value(input_data):\n",
    "    return model.predict(input_data)[0]\n",
    "\n",
    "st.title('Prédiction de prix immobilier')\n",
    "\n",
    "Unnamed_0 = st.number_input('Unnamed: 0')\n",
    "longitude = st.number_input('Longitude')\n",
    "latitude = st.number_input('Latitude')\n",
    "housing_median_age = st.number_input('Âge médian des logements')\n",
    "total_rooms = st.number_input('Nombre total de pièces')\n",
    "total_bedrooms = st.number_input('Nombre total de chambres')\n",
    "population = st.number_input('Population')\n",
    "households = st.number_input('Ménages')\n",
    "median_income = st.number_input('Revenu médian')\n",
    "ocean_proximity = st.selectbox('Proximité de l\\'océan', ('NEAR BAY', 'INLAND', '<1H OCEAN', 'NEAR OCEAN', 'ISLAND'))\n",
    "\n",
    "if st.button('Prédire la Valeur de la Maison'):\n",
    "    input_data = pd.DataFrame([[Unnamed_0, longitude, latitude, housing_median_age, total_rooms, total_bedrooms, population, households, median_income, ocean_proximity]],\n",
    "                              columns=['Unnamed: 0', 'longitude', 'latitude', 'housing_median_age', 'total_rooms', 'total_bedrooms', 'population', 'households', 'median_income', 'ocean_proximity'])\n",
    "\n",
    "\n",
    "\n",
    "    prediction = predict_house_value(input_data)\n",
    "    st.success(f'La valeur médiane prédite de la maison est: ${prediction}')\n",
    "\n",
    "\n",
    "if __name__=='__main__':\n",
    "    st.run()"
   ]
  }
 ],
 "metadata": {
  "kernelspec": {
   "display_name": "Python 3 (ipykernel)",
   "language": "python",
   "name": "python3"
  },
  "language_info": {
   "codemirror_mode": {
    "name": "ipython",
    "version": 3
   },
   "file_extension": ".py",
   "mimetype": "text/x-python",
   "name": "python",
   "nbconvert_exporter": "python",
   "pygments_lexer": "ipython3",
   "version": "3.11.5"
  }
 },
 "nbformat": 4,
 "nbformat_minor": 5
}
