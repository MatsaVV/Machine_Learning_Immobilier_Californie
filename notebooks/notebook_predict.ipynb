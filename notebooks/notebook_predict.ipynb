{
 "cells": [
  {
   "cell_type": "code",
   "execution_count": 2,
   "id": "43821761",
   "metadata": {},
   "outputs": [],
   "source": [
    "import numpy as np\n",
    "import pandas as pd\n",
    "import matplotlib.pyplot as plt\n",
    "import seaborn as sns\n",
    "\n",
    "from sklearn.impute import SimpleImputer\n",
    "#from geopy.distance import geodesic\n",
    "from sklearn.preprocessing import MinMaxScaler, StandardScaler, RobustScaler, OneHotEncoder\n",
    "from sklearn.pipeline import make_pipeline, Pipeline\n",
    "from sklearn.linear_model import SGDClassifier, LinearRegression\n",
    "from sklearn.model_selection import train_test_split, cross_val_score, learning_curve, GridSearchCV\n",
    "from sklearn.preprocessing import StandardScaler, RobustScaler, OneHotEncoder\n",
    "from sklearn.compose import ColumnTransformer\n",
    "from sklearn.ensemble import RandomForestRegressor\n",
    "from sklearn import set_config; set_config(display='diagram')\n",
    "from sklearn.neighbors import KNeighborsRegressor\n",
    "from sklearn.metrics import mean_squared_error\n",
    "from sklearn.impute import KNNImputer\n",
    "\n",
    "import pandas as pd\n",
    "from statsmodels.stats.outliers_influence import variance_inflation_factor\n",
    "from statsmodels.tools.tools import add_constant\n",
    "from sklearn import set_config\n",
    "\n",
    "from sklearn.pipeline import Pipeline\n",
    "from sklearn.impute import SimpleImputer\n",
    "from sklearn.preprocessing import MinMaxScaler, OneHotEncoder\n",
    "from sklearn.compose import ColumnTransformer\n",
    "from sklearn.model_selection import train_test_split, GridSearchCV\n",
    "from sklearn.neighbors import KNeighborsRegressor\n",
    "from sklearn import set_config\n",
    "import joblib"
   ]
  },
  {
   "cell_type": "code",
   "execution_count": 3,
   "id": "41bf07f4",
   "metadata": {},
   "outputs": [],
   "source": [
    "model = joblib.load(\"../model/pipe.joblib\")"
   ]
  },
  {
   "cell_type": "code",
   "execution_count": null,
   "id": "6aa8d678",
   "metadata": {},
   "outputs": [],
   "source": [
    "df = pd.read_csv('../data/housing-train-data-6628a4723213d886993351.csv')\n",
    "display(df)"
   ]
  },
  {
   "cell_type": "code",
   "execution_count": 5,
   "id": "ff0598f3",
   "metadata": {},
   "outputs": [
    {
     "name": "stdout",
     "output_type": "stream",
     "text": [
      "Entrez les valeurs suivantes :\n",
      "La valeur prédite est : 89163.92316465074\n"
     ]
    }
   ],
   "source": [
    "print(\"Entrez les valeurs suivantes :\")\n",
    "Unnamed_0 = input(\"Unnamed: 0 : \")\n",
    "longitude = float(input(\"Longitude : \"))\n",
    "latitude = float(input(\"Latitude : \"))\n",
    "housing_median_age = float(input(\"Âge médian des logements : \"))\n",
    "total_rooms = float(input(\"Nombre total de pièces : \"))\n",
    "total_bedrooms = float(input(\"Nombre total de chambres : \"))\n",
    "population = float(input(\"Population : \"))\n",
    "households = float(input(\"Ménages : \"))\n",
    "median_income = float(input(\"Revenu médian : \"))\n",
    "ocean_proximity = input(\"Proximité de l'océan : \")\n",
    "\n",
    "input_data = pd.DataFrame([{\n",
    "    'Unnamed: 0': Unnamed_0,\n",
    "    'longitude': longitude,\n",
    "    'latitude': latitude,\n",
    "    'housing_median_age': housing_median_age,\n",
    "    'total_rooms': total_rooms,\n",
    "    'total_bedrooms': total_bedrooms,\n",
    "    'population': population,\n",
    "    'households': households,\n",
    "    'median_income': median_income,\n",
    "    'ocean_proximity': ocean_proximity\n",
    "}])\n",
    "\n",
    "prediction = model.predict(input_data)\n",
    "print(f\"La valeur prédite est : {prediction[0]}\")"
   ]
  },
  {
   "cell_type": "code",
   "execution_count": null,
   "id": "688a17bd",
   "metadata": {},
   "outputs": [],
   "source": []
  }
 ],
 "metadata": {
  "kernelspec": {
   "display_name": "Python 3 (ipykernel)",
   "language": "python",
   "name": "python3"
  },
  "language_info": {
   "codemirror_mode": {
    "name": "ipython",
    "version": 3
   },
   "file_extension": ".py",
   "mimetype": "text/x-python",
   "name": "python",
   "nbconvert_exporter": "python",
   "pygments_lexer": "ipython3",
   "version": "3.10.6"
  },
  "toc": {
   "base_numbering": 1,
   "nav_menu": {},
   "number_sections": true,
   "sideBar": true,
   "skip_h1_title": false,
   "title_cell": "Table of Contents",
   "title_sidebar": "Contents",
   "toc_cell": false,
   "toc_position": {},
   "toc_section_display": true,
   "toc_window_display": false
  }
 },
 "nbformat": 4,
 "nbformat_minor": 5
}
